{
 "cells": [
  {
   "cell_type": "code",
   "execution_count": 23,
   "metadata": {},
   "outputs": [],
   "source": [
    "import pandas as pd\n",
    "import sklearn\n",
    "from sklearn import svm, preprocessing"
   ]
  },
  {
   "cell_type": "code",
   "execution_count": 24,
   "metadata": {},
   "outputs": [
    {
     "data": {
      "text/html": [
       "<div>\n",
       "<style scoped>\n",
       "    .dataframe tbody tr th:only-of-type {\n",
       "        vertical-align: middle;\n",
       "    }\n",
       "\n",
       "    .dataframe tbody tr th {\n",
       "        vertical-align: top;\n",
       "    }\n",
       "\n",
       "    .dataframe thead th {\n",
       "        text-align: right;\n",
       "    }\n",
       "</style>\n",
       "<table border=\"1\" class=\"dataframe\">\n",
       "  <thead>\n",
       "    <tr style=\"text-align: right;\">\n",
       "      <th></th>\n",
       "      <th>carat</th>\n",
       "      <th>cut</th>\n",
       "      <th>color</th>\n",
       "      <th>clarity</th>\n",
       "      <th>depth</th>\n",
       "      <th>table</th>\n",
       "      <th>price</th>\n",
       "      <th>x</th>\n",
       "      <th>y</th>\n",
       "      <th>z</th>\n",
       "    </tr>\n",
       "  </thead>\n",
       "  <tbody>\n",
       "    <tr>\n",
       "      <th>1</th>\n",
       "      <td>0.23</td>\n",
       "      <td>Ideal</td>\n",
       "      <td>E</td>\n",
       "      <td>SI2</td>\n",
       "      <td>61.5</td>\n",
       "      <td>55.0</td>\n",
       "      <td>326</td>\n",
       "      <td>3.95</td>\n",
       "      <td>3.98</td>\n",
       "      <td>2.43</td>\n",
       "    </tr>\n",
       "    <tr>\n",
       "      <th>2</th>\n",
       "      <td>0.21</td>\n",
       "      <td>Premium</td>\n",
       "      <td>E</td>\n",
       "      <td>SI1</td>\n",
       "      <td>59.8</td>\n",
       "      <td>61.0</td>\n",
       "      <td>326</td>\n",
       "      <td>3.89</td>\n",
       "      <td>3.84</td>\n",
       "      <td>2.31</td>\n",
       "    </tr>\n",
       "    <tr>\n",
       "      <th>3</th>\n",
       "      <td>0.23</td>\n",
       "      <td>Good</td>\n",
       "      <td>E</td>\n",
       "      <td>VS1</td>\n",
       "      <td>56.9</td>\n",
       "      <td>65.0</td>\n",
       "      <td>327</td>\n",
       "      <td>4.05</td>\n",
       "      <td>4.07</td>\n",
       "      <td>2.31</td>\n",
       "    </tr>\n",
       "    <tr>\n",
       "      <th>4</th>\n",
       "      <td>0.29</td>\n",
       "      <td>Premium</td>\n",
       "      <td>I</td>\n",
       "      <td>VS2</td>\n",
       "      <td>62.4</td>\n",
       "      <td>58.0</td>\n",
       "      <td>334</td>\n",
       "      <td>4.20</td>\n",
       "      <td>4.23</td>\n",
       "      <td>2.63</td>\n",
       "    </tr>\n",
       "    <tr>\n",
       "      <th>5</th>\n",
       "      <td>0.31</td>\n",
       "      <td>Good</td>\n",
       "      <td>J</td>\n",
       "      <td>SI2</td>\n",
       "      <td>63.3</td>\n",
       "      <td>58.0</td>\n",
       "      <td>335</td>\n",
       "      <td>4.34</td>\n",
       "      <td>4.35</td>\n",
       "      <td>2.75</td>\n",
       "    </tr>\n",
       "  </tbody>\n",
       "</table>\n",
       "</div>"
      ],
      "text/plain": [
       "   carat      cut color clarity  depth  table  price     x     y     z\n",
       "1   0.23    Ideal     E     SI2   61.5   55.0    326  3.95  3.98  2.43\n",
       "2   0.21  Premium     E     SI1   59.8   61.0    326  3.89  3.84  2.31\n",
       "3   0.23     Good     E     VS1   56.9   65.0    327  4.05  4.07  2.31\n",
       "4   0.29  Premium     I     VS2   62.4   58.0    334  4.20  4.23  2.63\n",
       "5   0.31     Good     J     SI2   63.3   58.0    335  4.34  4.35  2.75"
      ]
     },
     "execution_count": 24,
     "metadata": {},
     "output_type": "execute_result"
    }
   ],
   "source": [
    "FILE = 'diamonds.csv'\n",
    "df = pd.read_csv(FILE, index_col=0)\n",
    "df.head()"
   ]
  },
  {
   "cell_type": "code",
   "execution_count": 25,
   "metadata": {},
   "outputs": [
    {
     "data": {
      "text/plain": [
       "1        2\n",
       "2        3\n",
       "3        1\n",
       "4        3\n",
       "5        1\n",
       "        ..\n",
       "53936    2\n",
       "53937    1\n",
       "53938    4\n",
       "53939    3\n",
       "53940    2\n",
       "Length: 53940, dtype: int8"
      ]
     },
     "execution_count": 25,
     "metadata": {},
     "output_type": "execute_result"
    }
   ],
   "source": [
    "# just transform category into numbers, no meaning or relation to the correct sequence\n",
    "df['cut'].astype('category').cat.codes"
   ]
  },
  {
   "cell_type": "code",
   "execution_count": 26,
   "metadata": {},
   "outputs": [
    {
     "data": {
      "text/plain": [
       "array(['Ideal', 'Premium', 'Good', 'Very Good', 'Fair'], dtype=object)"
      ]
     },
     "execution_count": 26,
     "metadata": {},
     "output_type": "execute_result"
    }
   ],
   "source": [
    "df['cut'].unique()"
   ]
  },
  {
   "cell_type": "code",
   "execution_count": 27,
   "metadata": {},
   "outputs": [
    {
     "data": {
      "text/plain": [
       "array(['E', 'I', 'J', 'H', 'F', 'G', 'D'], dtype=object)"
      ]
     },
     "execution_count": 27,
     "metadata": {},
     "output_type": "execute_result"
    }
   ],
   "source": [
    "df['color'].unique()"
   ]
  },
  {
   "cell_type": "code",
   "execution_count": 28,
   "metadata": {},
   "outputs": [
    {
     "data": {
      "text/plain": [
       "array(['SI2', 'SI1', 'VS1', 'VS2', 'VVS2', 'VVS1', 'I1', 'IF'],\n",
       "      dtype=object)"
      ]
     },
     "execution_count": 28,
     "metadata": {},
     "output_type": "execute_result"
    }
   ],
   "source": [
    "df['clarity'].unique()"
   ]
  },
  {
   "cell_type": "code",
   "execution_count": 29,
   "metadata": {},
   "outputs": [],
   "source": [
    "# to transform into numbers with regards to meaning and sequence\n",
    "cut_dict = {'Fair': 1, 'Good': 2, 'Very Good': 3, 'Premium': 4, 'Ideal': 5}\n",
    "color_dict = {'J': 1, 'I': 2, 'H': 3, 'G': 4, 'F': 5, 'E': 6, 'D': 7}\n",
    "clarity_dict = {'I1': 1 , 'SI2': 2, 'SI1': 3, 'VS2': 4, 'VS1': 5, 'VVS2': 6, 'VVS1': 7, 'IF': 8}"
   ]
  },
  {
   "cell_type": "code",
   "execution_count": 30,
   "metadata": {},
   "outputs": [
    {
     "name": "stdout",
     "output_type": "stream",
     "text": [
      "Wall time: 15.6 ms\n"
     ]
    }
   ],
   "source": [
    "%%time \n",
    "#using apply lambda\n",
    "df['cut'] = df['cut'].apply(lambda c: cut_dict[c])"
   ]
  },
  {
   "cell_type": "code",
   "execution_count": 31,
   "metadata": {},
   "outputs": [
    {
     "name": "stdout",
     "output_type": "stream",
     "text": [
      "Wall time: 0 ns\n"
     ]
    }
   ],
   "source": [
    "%%time \n",
    "#using map\n",
    "df['color'] = df['color'].map(color_dict)"
   ]
  },
  {
   "cell_type": "code",
   "execution_count": 32,
   "metadata": {},
   "outputs": [
    {
     "name": "stdout",
     "output_type": "stream",
     "text": [
      "Wall time: 0 ns\n"
     ]
    }
   ],
   "source": [
    "%%time\n",
    "df['clarity'] = df['clarity'].map(clarity_dict)"
   ]
  },
  {
   "cell_type": "code",
   "execution_count": 33,
   "metadata": {},
   "outputs": [],
   "source": [
    "#shuffle dataframe to avoid bias in model\n",
    "df = sklearn.utils.shuffle(df)"
   ]
  },
  {
   "cell_type": "code",
   "execution_count": 34,
   "metadata": {},
   "outputs": [],
   "source": [
    "# X & y for the model\n",
    "# X: all the relevent data required for the predictuion\n",
    "# y: the values to be predicted by the model\n",
    "X = df.drop(\"price\", axis=1).values\n",
    "# Scale X to produce more uniform values\n",
    "X = preprocessing.scale(X)\n",
    "y = df[\"price\"].values"
   ]
  },
  {
   "cell_type": "code",
   "execution_count": 35,
   "metadata": {},
   "outputs": [],
   "source": [
    "# define test sample, to test the model after it finishes. the sample will never be fed to training the model\n",
    "test_sample = 100 \n",
    "#since data is already shuffled, taking last 200 is OK as a random sample\n",
    "X_train = X[:-test_sample]\n",
    "y_train = y[:-test_sample]\n",
    "\n",
    "X_test = X[-test_sample:]\n",
    "y_test = y[-test_sample:]"
   ]
  },
  {
   "cell_type": "code",
   "execution_count": 36,
   "metadata": {},
   "outputs": [
    {
     "data": {
      "text/plain": [
       "0.8499457112953045"
      ]
     },
     "execution_count": 36,
     "metadata": {},
     "output_type": "execute_result"
    }
   ],
   "source": [
    "# train the the model for prediction\n",
    "clf = svm.SVR(kernel = 'linear')\n",
    "clf.fit(X_train, y_train)\n",
    "clf.score(X_test, y_test)"
   ]
  },
  {
   "cell_type": "code",
   "execution_count": 37,
   "metadata": {},
   "outputs": [
    {
     "name": "stdout",
     "output_type": "stream",
     "text": [
      "Model: 1189.8342425889778, Actual: 1237\n",
      "Model: 3302.422829901419, Actual: 3053\n",
      "Model: 1692.2629960288402, Actual: 1607\n",
      "Model: 5905.754039311994, Actual: 7805\n",
      "Model: 263.0556701777746, Actual: 625\n",
      "Model: 2864.064263207377, Actual: 2227\n",
      "Model: 533.5302474382065, Actual: 928\n",
      "Model: 6236.127469267393, Actual: 8057\n",
      "Model: 6391.044549556018, Actual: 7416\n",
      "Model: 8601.337800081184, Actual: 7416\n",
      "Model: 6476.639078826545, Actual: 9068\n",
      "Model: 13299.775893324564, Actual: 14277\n",
      "Model: 4496.348995651122, Actual: 4225\n",
      "Model: 8531.615896775898, Actual: 9352\n",
      "Model: 4392.26522676359, Actual: 4212\n",
      "Model: 1476.6573184991535, Actual: 1393\n",
      "Model: 739.3269060620005, Actual: 972\n",
      "Model: 4533.476688077515, Actual: 4306\n",
      "Model: 4739.9993846347115, Actual: 4899\n",
      "Model: 5362.989036060603, Actual: 6697\n",
      "Model: 8792.53964974929, Actual: 12100\n",
      "Model: 1340.5716212199877, Actual: 1229\n",
      "!!! Invalid Value\n",
      "Model: -34.12260266553767, Actual: 949\n",
      "Model: 8031.123641679766, Actual: 7368\n",
      "Model: 105.7518552919787, Actual: 629\n",
      "Model: 11743.465441987086, Actual: 15218\n",
      "Model: 4616.866291225274, Actual: 5455\n",
      "Model: 426.45481354534195, Actual: 613\n",
      "Model: 1749.399173032235, Actual: 1784\n",
      "Model: 8686.515279570573, Actual: 10655\n",
      "Model: 4244.597524318994, Actual: 5884\n",
      "!!! Invalid Value\n",
      "Model: -314.7855706150317, Actual: 457\n",
      "Model: 8529.96261246164, Actual: 10920\n",
      "Model: 11674.5828442548, Actual: 17600\n",
      "Model: 11888.060895470548, Actual: 18371\n",
      "Model: 3218.537069068325, Actual: 3169\n",
      "Model: 1140.657319064515, Actual: 891\n",
      "Model: 4604.610096758352, Actual: 4961\n",
      "Model: 3234.161812235231, Actual: 2903\n",
      "Model: 806.1631313049916, Actual: 814\n",
      "Model: 4083.5604467050593, Actual: 3894\n",
      "Model: 6521.324344367509, Actual: 6456\n",
      "Model: 5366.268679321782, Actual: 4530\n",
      "Model: 9351.231485545119, Actual: 11019\n",
      "Model: 5176.957864273129, Actual: 4662\n",
      "Model: 4777.765943969823, Actual: 4672\n",
      "Model: 1353.6057455589726, Actual: 1146\n",
      "Model: 1275.5247468987682, Actual: 1000\n",
      "Model: 1674.433189974127, Actual: 1323\n",
      "Model: 4099.837189332416, Actual: 2872\n",
      "Model: 5621.158045112456, Actual: 7405\n",
      "Model: 7515.680537333822, Actual: 10572\n",
      "Model: 11802.103585685036, Actual: 17377\n",
      "Model: 3859.561909481844, Actual: 3364\n",
      "Model: 12850.256944719491, Actual: 15760\n",
      "Model: 768.9695545791387, Actual: 972\n",
      "Model: 7420.5872261273835, Actual: 8877\n",
      "Model: 315.06227279921677, Actual: 614\n",
      "Model: 4173.521640227712, Actual: 4239\n",
      "Model: 1180.7099358187538, Actual: 1028\n",
      "Model: 9136.60014622625, Actual: 8954\n",
      "Model: 7241.01567732749, Actual: 12647\n",
      "Model: 5022.0334441228515, Actual: 4805\n",
      "Model: 1867.5349454552006, Actual: 1807\n",
      "Model: 4856.588915930833, Actual: 5743\n",
      "Model: 2558.973265524912, Actual: 2396\n",
      "Model: 7989.308485757693, Actual: 7582\n",
      "Model: 315.81584221246567, Actual: 577\n",
      "Model: 3425.2161733497114, Actual: 2901\n",
      "Model: 472.6340318958305, Actual: 802\n",
      "Model: 8595.57785700051, Actual: 15874\n",
      "Model: 4069.494431415612, Actual: 3893\n",
      "Model: 2076.9662979592667, Actual: 1817\n",
      "Model: 3379.881868467929, Actual: 3006\n",
      "Model: 886.7774748022211, Actual: 1107\n",
      "Model: 3318.147361105634, Actual: 2565\n",
      "Model: 1637.525645779467, Actual: 1676\n",
      "Model: 995.3417583341597, Actual: 789\n",
      "Model: 1711.7229679538511, Actual: 1243\n",
      "Model: 1233.484513327312, Actual: 1076\n",
      "!!! Invalid Value\n",
      "Model: -112.34235996817324, Actual: 508\n",
      "Model: 6423.768973910948, Actual: 6257\n",
      "Model: 2195.323366568756, Actual: 2197\n",
      "Model: 7002.797423939464, Actual: 10609\n",
      "Model: 661.8020966670083, Actual: 1058\n",
      "Model: 1049.318634683411, Actual: 853\n",
      "Model: 2878.1913905186616, Actual: 2684\n",
      "Model: 12267.148719254641, Actual: 17533\n",
      "Model: 3790.7504030785094, Actual: 3428\n",
      "Model: 77.6267109489454, Actual: 509\n",
      "Model: 426.3482729934253, Actual: 568\n",
      "Model: 4378.295327240572, Actual: 2781\n",
      "Model: 2367.0737667485, Actual: 2065\n",
      "Model: 556.9795241672418, Actual: 636\n",
      "Model: 1358.7730486775326, Actual: 1018\n",
      "Model: 8128.117918506668, Actual: 8620\n",
      "Model: 3257.1948575252422, Actual: 2633\n",
      "Model: 9676.421665412447, Actual: 10600\n",
      "Model: 11492.55222353733, Actual: 15694\n",
      "Model: 8713.583477612494, Actual: 10642\n"
     ]
    }
   ],
   "source": [
    "# test the model with the test sample\n",
    "for x, y in zip(X_test, y_test):\n",
    "    prediction = clf.predict([x])[0]\n",
    "    if prediction < 0:\n",
    "        print('!!! Invalid Value')\n",
    "    print('Model: {}, Actual: {}'.format(prediction, y))"
   ]
  },
  {
   "cell_type": "code",
   "execution_count": null,
   "metadata": {},
   "outputs": [],
   "source": []
  }
 ],
 "metadata": {
  "kernelspec": {
   "display_name": "Python 3",
   "language": "python",
   "name": "python3"
  },
  "language_info": {
   "codemirror_mode": {
    "name": "ipython",
    "version": 3
   },
   "file_extension": ".py",
   "mimetype": "text/x-python",
   "name": "python",
   "nbconvert_exporter": "python",
   "pygments_lexer": "ipython3",
   "version": "3.8.5"
  }
 },
 "nbformat": 4,
 "nbformat_minor": 4
}
